{
  "cells": [
    {
      "cell_type": "markdown",
      "metadata": {
        "id": "6FbQEmw3PET-"
      },
      "source": [
        "<a href=\"https://colab.research.google.com/github/ferit-qc/lab1/blob/main/lab1_HelloQuantum.ipynb\" target=\"_parent\"><img src=\"https://colab.research.google.com/assets/colab-badge.svg\" alt=\"Open In Colab\"/></a>\n",
        "\n",
        "# LAB 1 - Introduction to Quantum Computing with Qiskit\n",
        "\n",
        "These laboratory excersises are solved on Google Colab and are saved on GitHub repo that is connected to GitHub Classroom.\n",
        "\n",
        "## Tools You need to use to Submit Assignments\n",
        "\n",
        "In this document, you will solve tasks. This is a Jupyter Notebook which has the **.ipynb** extension, is an interactive web environment for data analysis, visualization, solution presentations, education, and more.\n",
        "\n",
        "**Google Colab** is a tool that allows you to run and share Jupyter Notebook files on Google's servers, including the use of Google's CPU, GPU, and TPU resources. Colab is like Google Docs for Jupyter Notebooks. **Google Colab does not automatically save your assignment to GitHub.**\n",
        "\n",
        "**You use GitHub to save and submit your assignments.** When you accept the assignment through GitHub Classroom, a repository is automatically created on your GitHub account with a copy of the task. This is where you will save your solutions. Saving your solutions submits the tasks for that lab.\n",
        "\n",
        "## How to Solve the Tasks?\n",
        "1. Accept the task via the Google Classroom link that you will receive. Google Classroom will create a repository on your account.\n",
        "2. Go to the newly created repository on your account and click on the .ipynb file, then click Open in Colab.\n",
        "3. You will solve the tasks in Google Colab.\n",
        "\n",
        "## How to Save (Submit) Tasks?\n",
        "\n",
        "1. In Google Colab, click on the Open settings gear icon in the top-right corner.\n",
        "2. Click on the GitHub tab and check the box for Access private repositories and organizations.\n",
        "3. A new window will open for you to grant access to GitHub. For ferit-osirv, click Grant.\n",
        "4. Save and exit the settings.\n",
        "5. Click on File > Save a copy in GitHub.\n",
        "6. Select the lab repository that includes your name.\n",
        "\n",
        "> *Note:* You only need to complete steps 1-4 the first time.\n",
        "\n",
        "7. Click on **File > Save a copy in GitHub**.\n",
        "8. Select created repository **that has your name in it**.\n",
        "\n",
        "# Introduction to Quantum Computing with Qiskit\n",
        "Quantum computing leverages the principles of quantum mechanics—such as superposition, entanglement, and interference—to perform computations that are difficult or impossible for classical computers.\n",
        "\n",
        "Qiskit (Quantum Information Science Kit) is an open-source SDK developed by IBM that allows users to design, simulate, and execute quantum algorithms on both simulators and real quantum hardware.\n",
        "\n",
        "With Qiskit, we can:\n",
        "\n",
        "* Build quantum circuits using intuitive Python code,\n",
        "* Simulate their behavior using classical backends like AerSimulator,\n",
        "* Run circuits on actual IBM Quantum devices through the cloud,\n",
        "* Visualize results with tools like plot_histogram, Bloch spheres, and statevector plots.\n",
        "\n",
        "In this notebook, we'll explore how to create basic quantum circuits, simulate them, and interpret the results—all using Qiskit.\n",
        "\n",
        "## Creating an IBM Quantum Account\n",
        "\n",
        "To run your quantum circuits on real quantum hardware provided by IBM, you’ll need to create a free IBM Quantum account.\n",
        "\n",
        "You can sign up here: https://quantum.ibm.com/\n",
        "\n",
        "IBM Quantum provides extensive documentation and learning resources to support your journey into quantum computing. You can access tutorials, API references, example circuits, and guided learning paths directly through the [IBM Quantum documentation](https://docs.quantum.ibm.com/) and the [Qiskit documentation](https://www.ibm.com/quantum/qiskit). These resources are ideal for learners at all levels—from beginners to advanced users.\n",
        "\n",
        "Additionally, when using IBM’s real quantum devices, keep in mind that access is time-limited and shared among all users globally, so your jobs may enter a queue before execution. Simulators are often faster and recommended for testing before submitting to real hardware.\n",
        "\n",
        "The [IBM Quantum Composer](https://quantum.ibm.com/composer/) is a web-based visual tool that allows users to create, edit, and run quantum circuits without writing any code. It provides a drag-and-drop interface where you can place quantum gates, measure qubits, and build circuits interactively. This is especially useful for beginners who want to learn the basics of quantum computing concepts such as superposition, entanglement, and quantum measurement. Once a circuit is built, it can be simulated or executed on real IBM quantum devices directly from the browser, making the Composer a powerful and accessible learning tool for exploring quantum algorithms."
      ]
    },
    {
      "cell_type": "markdown",
      "metadata": {
        "id": "-0dkFARQd_FI"
      },
      "source": [
        "## Lets get started with Lab1 !"
      ]
    },
    {
      "cell_type": "markdown",
      "metadata": {
        "id": "rQIRG-dZeFaf"
      },
      "source": [
        "To get started with Qiskit and run quantum circuits locally or on IBM Quantum hardware, install the required Python packages using the following commands:"
      ]
    },
    {
      "cell_type": "code",
      "execution_count": null,
      "metadata": {
        "collapsed": true,
        "id": "NStyivO8gG5j"
      },
      "outputs": [],
      "source": [
        "pip install qiskit qiskit-ibm-runtime"
      ]
    },
    {
      "cell_type": "code",
      "execution_count": null,
      "metadata": {
        "collapsed": true,
        "id": "59DOJnUOgH_a"
      },
      "outputs": [],
      "source": [
        "pip install qiskit qiskit-aer"
      ]
    },
    {
      "cell_type": "code",
      "execution_count": null,
      "metadata": {
        "collapsed": true,
        "id": "VblzRBINgJVq"
      },
      "outputs": [],
      "source": [
        "pip install matplotlib"
      ]
    },
    {
      "cell_type": "code",
      "execution_count": null,
      "metadata": {
        "collapsed": true,
        "id": "L4mXCXL7EMfm"
      },
      "outputs": [],
      "source": [
        "pip install pylatexenc"
      ]
    },
    {
      "cell_type": "code",
      "execution_count": null,
      "metadata": {
        "id": "WbyJtU-KSGkZ"
      },
      "outputs": [],
      "source": [
        "%matplotlib inline"
      ]
    },
    {
      "cell_type": "markdown",
      "metadata": {
        "id": "n3WAi7PweQ0Y"
      },
      "source": [
        "These imports load the essential tools for working with quantum circuits in Qiskit:"
      ]
    },
    {
      "cell_type": "code",
      "execution_count": null,
      "metadata": {
        "id": "q7uOg53hEuJM"
      },
      "outputs": [],
      "source": [
        "from qiskit import *   # Imports core Qiskit classes (QuantumCircuit, transpile, etc.)\n",
        "from qiskit_aer.aerprovider import AerSimulator # Provides access to the local quantum circuit simulator\n",
        "from qiskit.visualization import plot_histogram # Enables visualization of measurement results\n",
        "import matplotlib.pyplot as plt # Standard Python plotting library\n",
        "from IPython.display import display # Allows rich display of plots in Jupyter notebooks\n",
        "from IPython.display import Image\n",
        "from IPython.core.display import HTML\n",
        "import math"
      ]
    },
    {
      "cell_type": "markdown",
      "metadata": {
        "id": "Hke1mKGmtN46"
      },
      "source": [
        "## Qubits and Quantum Gates\n",
        "\n",
        "In quantum computing, the basic unit of information is the qubit (quantum bit). Unlike a classical bit, which can be either $0$ or $1$, a qubit can exist in a superposition of both states simultaneously. Mathematically, a qubit’s state is written as:\n",
        "\n",
        "![](https://i.postimg.cc/4NkkbwnT/image.png)\n",
        "\n",
        "where 𝛼 and 𝛽 are complex numbers such that ![image.png](https://i.postimg.cc/V626FM0H/image.png). When a qubit is measured, it collapses to either 0 or 1 with probabilities ![alfa](https://i.postimg.cc/WbwNdx8y/image.png), and ![beta](https://i.postimg.cc/hjW6btP1/image.png), respectively."
      ]
    },
    {
      "cell_type": "markdown",
      "metadata": {
        "id": "GxbCPygxwOCT"
      },
      "source": [
        "### Quantum Gates\n",
        "\n",
        "Quantum gates are the building blocks of quantum circuits. They are reversible operations that change the state of qubits, and are represented by unitary matrices. Here are some of the most important gates.\n",
        "\n",
        "---\n",
        "#### Hadamard Gate\n",
        "\n",
        "![hadamradgate](https://i.postimg.cc/L6WpgRfN/image.png)\n",
        "\n",
        "Hadamard gates are very often used since they create a superposition state.\n",
        "\n",
        "---\n",
        "\n",
        "#### CNOT Gate\n",
        "\n",
        "![cnotgate](https://i.postimg.cc/wvnrTxnm/image.png)\n",
        "\n",
        "A two-qubit gate that flips the target qubit if the control qubit is $1$.\n",
        "Essential for creating entanglement.\n",
        "\n",
        "---\n",
        "\n",
        "#### Pauli X,Y,Z Gates\n",
        "\n",
        "![paulixgate](https://i.postimg.cc/qBjtYhVq/image.png)\n",
        "\n",
        "X gate flips $0$ and $1$.\n",
        "Y combines both qubits with a phase shift.\n",
        "Z flips the phase of $1$.\n",
        "\n",
        "---\n",
        "\n",
        "#### Phase Gates S and T\n",
        "\n",
        "![phasegatesST](https://i.postimg.cc/zf75BhkR/image.png)\n",
        "\n",
        "Apply specific phase rotations to qubits. Important for interference and gate decomposition.\n",
        "\n",
        "\n",
        "---\n",
        "\n",
        "#### Swap Gate\n",
        "\n",
        "![swap](https://i.postimg.cc/BnqJGNTG/image.png)\n",
        "\n",
        "Exchanges the states of two qubits. If qubit A is in state |ψ⟩ and qubit B is in state |φ⟩, after a SWAP gate: A becomes |φ⟩, and B becomes |ψ⟩. Useful for reordering qubits or routing information.\n",
        "\n",
        "---\n",
        "\n",
        "#### Controled Z\n",
        "\n",
        "![controlledZ](https://i.postimg.cc/cJPq6cnC/image.png)\n",
        "\n",
        "Applies a Z gate (phase flip) to the target qubit only if the control qubit is |1⟩.\n",
        "It introduces a relative phase of -1 to the |11⟩ state.\n",
        "Often used to create entanglement.\n",
        "\n",
        "---\n",
        "\n",
        "#### Controlled-phase\n",
        "\n",
        "![controlledphase](https://i.postimg.cc/SNkBXRJ6/image.png)\n",
        "\n",
        "Similar to CZ, but instead of flipping the phase by π, it applies an arbitrary phase shift to the target qubit when the control is |1⟩.\n",
        "Often written as CU1(θ) where θ is the phase angle.\n",
        "\n",
        "---\n",
        "\n",
        "#### Toffoli\n",
        "\n",
        "![toffoli](https://i.postimg.cc/3N7cDfJ8/image.png)\n",
        "\n",
        "A controlled-controlled-X gate (2 control qubits, 1 target).\n",
        "Flips the target qubit only if both control qubits are |1⟩.\n",
        "It is the quantum equivalent of the classical AND gate and is universal for reversible classical logic.\n",
        "\n",
        "---\n",
        "\n",
        "#### Fredkin (controlled-swap)\n",
        "\n",
        "![controlled-swap](https://i.postimg.cc/CMNvQNx8/image.png)\n",
        "\n",
        "A controlled-SWAP gate. Swaps two qubits only if the control qubit is |1⟩. Useful for conditional logic and certain quantum algorithms (e.g. quantum fingerprinting).\n",
        "\n",
        "---\n",
        "\n",
        "#### Measurement\n",
        "\n",
        "![measurement](https://i.postimg.cc/fyrYhkPG/image.png)\n",
        "\n",
        "Measurement converts the quantum state into a classical result ($0$ or $1$) by collapsing the qubit’s superposition.\n",
        "\n",
        "---"
      ]
    },
    {
      "cell_type": "markdown",
      "metadata": {
        "id": "hZKaBnjT2jSN"
      },
      "source": [
        "### Entanglement and Interference\n",
        "\n",
        "Two or more qubits can become **entangled**, meaning their states are linked regardless of distance. Entanglement is a key resource in quantum computing, enabling phenomena like quantum teleportation and quantum parallelism.\n",
        "\n",
        "**Interference** allows quantum algorithms to amplify correct answers and cancel out incorrect ones, giving them an advantage over classical algorithms.\n",
        "\n",
        "Together, qubits and quantum gates form the foundation for building quantum circuits and algorithms like Grover's Search, Shor's Factoring, and Quantum Fourier Transform.\n"
      ]
    },
    {
      "cell_type": "markdown",
      "metadata": {
        "id": "gxfCA85IIvhF"
      },
      "source": [
        "## Creating an Entangled Quantum Circuit\n",
        "\n",
        "**Example 1. Implement Hadamard + CNOT circuit.**\n",
        "\n",
        "\n",
        "We will first show how to implement Hadamard + CNOT entanglement circuit shown in the image below:\n",
        "\n",
        "![hadamard cnot gate - entangelment.jpg](https://i.postimg.cc/vHpb4bwb/hadamard-cnot-gate-entangelment.jpg)\n",
        "\n",
        "\n",
        "The circuit shown above demonstrates the creation of a Bell state, one of the simplest and most important examples of quantum entanglement. It consists of two key gates:\n",
        "\n",
        "1. Hadamard gate (H) applied to qubit 0:\n",
        "This puts the qubit into a superposition, resulting in the state\n",
        "\n",
        "![screenshot_1742894890996.png](https://i.postimg.cc/2j15yHLd/image.png)\n",
        "\n",
        "2. CNOT gate with qubit 0 as the control and qubit 1 as the target:\n",
        "This entangles the qubits. The target qubit ($q_1$) is flipped if the control qubit ($q_0$) is in the state |1⟩.\n",
        "\n",
        "After these gates are applied, the system is in the entangled Bell state:\n",
        "\n",
        "![](https://i.postimg.cc/rsHj8fbF/image.png)\n",
        "\n",
        "Finally,when measured, the results will always be correlated—if one qubit is $0$, the other will also be $0$; if one is $1$, the other will be $1$. This is a hallmark of entanglement. We will see all this while implementing example 1.\n",
        "\n",
        "So, let's start with the circuit itself. In order to create the circuit, we need to register something called **QuantumCircuit**. First 2 means register me 2 qubits ($q_0$, $q_1$), and the second 2 means register me 2 classical bits ($c_0$, $c_1$). We need two classical bits, one for each qubit, since they are connected to measurements."
      ]
    },
    {
      "cell_type": "code",
      "execution_count": null,
      "metadata": {
        "id": "1gaz-j-cHFi6"
      },
      "outputs": [],
      "source": [
        "circuit = QuantumCircuit(2,2)"
      ]
    },
    {
      "cell_type": "markdown",
      "metadata": {
        "id": "RbI2A7gGKRdY"
      },
      "source": [
        "Now we have created a circuit that has 2 qubits and 2 classical bits and our curret state now looks like this:\n",
        "\n",
        "![two qubits and two bits](https://i.postimg.cc/FHXcjYMK/two-qubits-two-bits.jpg)\n"
      ]
    },
    {
      "cell_type": "markdown",
      "metadata": {
        "id": "qLpNLKYGQ0Jj"
      },
      "source": [
        "We can now draw our circuit."
      ]
    },
    {
      "cell_type": "code",
      "execution_count": null,
      "metadata": {
        "id": "TOUg7wcaIKti"
      },
      "outputs": [],
      "source": [
        "circuit.draw()"
      ]
    },
    {
      "cell_type": "markdown",
      "metadata": {
        "id": "Q2tXF9oLRl8h"
      },
      "source": [
        "As you may noticed, when drawing circuit in this way, we don't see much. Therefore, we will use functions from matplotlib to better represent it."
      ]
    },
    {
      "cell_type": "code",
      "execution_count": null,
      "metadata": {
        "id": "kWSZidh2SKSD"
      },
      "outputs": [],
      "source": [
        "circuit.draw(output = 'mpl')"
      ]
    },
    {
      "cell_type": "markdown",
      "metadata": {
        "id": "f2fSPuj-UH7_"
      },
      "source": [
        "We will now apply Hadamard gate to our qubit $q_0$. In order to apply gate we can use the circuit itself which is already embended in circuit property. Hadamard gate is marked as $h$. We also need to specify which qubit we will be putting it on.\n",
        "\n",
        "This creates a superposition.\n",
        "\n",
        "Since we want it on $q_0$ we will call it as $0$. If we wanted to apply Hadamard gate on multiply qubits, for example two, we would use lists, something like $[0,1]$. So lets apply Hadamard gate to $q_0$ qubit:"
      ]
    },
    {
      "cell_type": "code",
      "execution_count": null,
      "metadata": {
        "id": "BPZfXUmuUlJ8"
      },
      "outputs": [],
      "source": [
        "#applying Hadamard gate\n",
        "circuit.h(0)\n",
        "#drawing the circuit:\n",
        "circuit.draw(output = 'mpl')"
      ]
    },
    {
      "cell_type": "markdown",
      "metadata": {
        "id": "D0ROS4tZVsLv"
      },
      "source": [
        "Now lets add CNOT gate to $q_1$ qubit. Remember, it checks to see if control qubit is in the state 1 and if that is the case it applies NOT gate on the 1. In other words, this entangles the two qubits. If qubit 0 is 1, qubit 1 gets flipped.  "
      ]
    },
    {
      "cell_type": "code",
      "execution_count": null,
      "metadata": {
        "id": "D6rwBuuDVwma"
      },
      "outputs": [],
      "source": [
        "circuit.cx(0,1) # 0-> is control qubit, 1-> target qubit\n",
        "circuit.draw(output = 'mpl')"
      ]
    },
    {
      "cell_type": "markdown",
      "metadata": {
        "id": "etjzRJAHWt76"
      },
      "source": [
        "Now we can add meassurement. For measurement we can specify which qubits we want to measure (we can measure only one, or both).\n",
        "Another important thing to do is associate the measurements with classical bits."
      ]
    },
    {
      "cell_type": "code",
      "execution_count": null,
      "metadata": {
        "id": "A1YDqHDWWwtd"
      },
      "outputs": [],
      "source": [
        "circuit.measure([0,1], [0,1])  #measures qubit 0 -> classical bit 0 and qubit 1 -> classical bit 1\n",
        "circuit.draw(output = 'mpl')"
      ]
    },
    {
      "cell_type": "markdown",
      "metadata": {
        "id": "u5WA1ay2XtmX"
      },
      "source": [
        "Now that we measured it, we can see that we got the exact the same thing we had in **Qubit Composer**: we have two qubits ($q_0$, $q_1$), two classical bits ($c_0$,$c_1$), one Hadamard gate, and one XNOT gate.\n",
        "\n",
        "This is our first circuit ever, this is the **Hello Quantum** circuit. Right now, the states should be entangeled together. In order to confirm they are entangeled together we need to execute this on quantum simulator (or on real quantum computer) to get the result and see if we will really get $00$ and $11$ states as a result.\n",
        "\n",
        "In order to run it on simulator, we need to use **Aer module**.\n",
        "\n",
        "\n",
        "\n",
        "\n",
        "\n"
      ]
    },
    {
      "cell_type": "code",
      "execution_count": null,
      "metadata": {
        "id": "7CxLqo3VhOHH"
      },
      "outputs": [],
      "source": [
        "# Create simulator instance\n",
        "# Think of this as your “virtual quantum computer” to test your circuit.\n",
        "simulator = AerSimulator()"
      ]
    },
    {
      "cell_type": "markdown",
      "metadata": {
        "id": "bv0Luyi-8AIg"
      },
      "source": [
        "Transpilation is like “compiling” your circuit. It adapts the circuit to match the simulator's capabilities and optimizes it for performance or hardware constraints."
      ]
    },
    {
      "cell_type": "code",
      "execution_count": null,
      "metadata": {
        "id": "gmMgqenOk-vd"
      },
      "outputs": [],
      "source": [
        "# Transpile the circuit for the simulator\n",
        "compiled_circuit = transpile(circuit, simulator)"
      ]
    },
    {
      "cell_type": "code",
      "execution_count": null,
      "metadata": {
        "id": "1d_fU98js0yc"
      },
      "outputs": [],
      "source": [
        "# Runs the transpiled circuit on the simulator\n",
        "result = simulator.run(compiled_circuit, shots=1024).result()"
      ]
    },
    {
      "cell_type": "code",
      "execution_count": null,
      "metadata": {
        "id": "RoxY7vfDs33O"
      },
      "outputs": [],
      "source": [
        "# Get measurement counts\n",
        "counts = result.get_counts()\n",
        "# Show the result\n",
        "print(\"Measurement Counts:\", counts)"
      ]
    },
    {
      "cell_type": "code",
      "execution_count": null,
      "metadata": {
        "id": "DcQ4-RKh1iiu"
      },
      "outputs": [],
      "source": [
        "#Plots a histogram of how often each result was observed.\n",
        "hist = plot_histogram(counts)\n",
        "display(hist)"
      ]
    },
    {
      "cell_type": "markdown",
      "metadata": {
        "id": "2ML-F-XO2wvr"
      },
      "source": [
        "We see that they are in entangeled state."
      ]
    },
    {
      "cell_type": "markdown",
      "metadata": {
        "id": "m7sZUvlo2-C3"
      },
      "source": [
        "## Creating the Toffoli Gate - CCX Gate\n",
        "\n",
        "**Example 2. Implement CCX Gate.**\n",
        "\n",
        "The Toffoli gate is a three qubit gate with two controls and one target. It performs an X on the target only if both controls are in the state 1. The final state of the target is then equal to either the AND or the NAND of the two controls, depending on whether the initial state of the target was 0 or 1. A Toffoli can also be thought of as a controlled-controlled-NOT, and is also called CCX gate.\n",
        "\n"
      ]
    },
    {
      "cell_type": "code",
      "execution_count": null,
      "metadata": {
        "id": "ZEaIJqtU1r2s"
      },
      "outputs": [],
      "source": [
        "## Toffoli with control qubits a and b and target qubit t\n",
        "circuittofolli = QuantumCircuit(3)\n",
        "a = 0\n",
        "b = 1\n",
        "t = 2\n",
        "circuittofolli.ccx(a,b,t)\n",
        "circuittofolli.draw(output = 'mpl')"
      ]
    },
    {
      "cell_type": "markdown",
      "metadata": {
        "id": "Z781a7EN-S2w"
      },
      "source": [
        "## Phase - Z Gate\n",
        "\n",
        "The Z gate, also called the Phase Flip Gate, is one of the fundamental single-qubit gates in quantum computing. It applies a phase of π (180°) to the |1⟩ component of a qubit, leaving the |0⟩ state unchanged.\n",
        "\n",
        "When applied to a general qubit state:\n",
        "\n",
        "![zgate](https://i.postimg.cc/tgrM8CXR/image.png)\n",
        "\n",
        "The Z gate transforms it to:\n",
        "\n",
        "![zgate2](https://i.postimg.cc/6qZb7rCT/image.png)\n",
        "\n",
        "Only the phase of the |1⟩ term is flipped (multiplied by -1). The probabilities of measuring 0 or 1 stay the same, because quantum measurements depend on the squared magnitudes ![](https://i.postimg.cc/sx8yz4sX/image.png) and ![](https://i.postimg.cc/DzFh7Zkq/image.png),  which are unaffected by phase.\n",
        "\n",
        "Phases don’t always affect individual measurements, but they do affect interference in multi-qubit systems. The Z gate becomes powerful when used in superpositions or entangled states, where relative phase matters. It's a key gate in the Pauli group and forms the basis for more complex gates like S, T, and controlled-Z.\n",
        "\n",
        "**Apply Hadamard → Z → Hadamard to |0⟩** as shown in image below:\n",
        "![](https://i.postimg.cc/QtCdrt1f/image.png)"
      ]
    },
    {
      "cell_type": "code",
      "execution_count": null,
      "metadata": {
        "id": "QIrl2mFIE3S7"
      },
      "outputs": [],
      "source": [
        "qczgate = QuantumCircuit(1)\n",
        "\n",
        "# apply Hadamard to $q_0$\n",
        "qczgate.h(0)\n",
        "qczgate.draw(output = 'mpl')\n"
      ]
    },
    {
      "cell_type": "markdown",
      "metadata": {
        "id": "2IsYWp6pIOZK"
      },
      "source": [
        "On a Bloch Sphere, the qubit is represented as:\n",
        "\n",
        "![](https://i.postimg.cc/8CHm0ymh/image.png)\n",
        "\n"
      ]
    },
    {
      "cell_type": "code",
      "execution_count": null,
      "metadata": {
        "id": "4c2vtGi9G-ZP"
      },
      "outputs": [],
      "source": [
        "# apply Z Gate to $q_0$\n",
        "qczgate.z(0)\n",
        "qczgate.draw(output = 'mpl')"
      ]
    },
    {
      "cell_type": "markdown",
      "metadata": {
        "id": "0_-ZTzNfH8Gr"
      },
      "source": [
        "If we look at the qubit on a Bloch Spehere, we see that now we have phase (marked in red).\n",
        "\n",
        "![](https://i.postimg.cc/c4gTLBdS/image.png)"
      ]
    },
    {
      "cell_type": "code",
      "execution_count": null,
      "metadata": {
        "id": "KHK3E1f6HQXB"
      },
      "outputs": [],
      "source": [
        "# apply Hadamard to $q_0$\n",
        "qczgate.h(0)\n",
        "qczgate.draw(output = 'mpl')"
      ]
    },
    {
      "cell_type": "markdown",
      "metadata": {
        "id": "n21EUQDVIxFf"
      },
      "source": [
        "After applying Hadamard gate after Z gate, Bloch sphere looks like this:\n",
        "\n",
        "![](https://i.postimg.cc/ZKxPR7XX/image.png)"
      ]
    },
    {
      "cell_type": "markdown",
      "metadata": {
        "id": "LzUR8LmLHRlT"
      },
      "source": [
        "The result will be |1⟩, showing that Z is equivalent to an X (NOT) gate in the Hadamard basis — highlighting how phase affects interference!"
      ]
    },
    {
      "cell_type": "markdown",
      "metadata": {
        "id": "flsVe9dAJDIG"
      },
      "source": [
        "## Phase and Bloch Sphere\n",
        "\n",
        "In quantum computing, a qubit is a two-level quantum system that can exist in a superposition of the basis states |0⟩ and |1⟩. A general qubit state can be written as:\n",
        "\n",
        "![zgate](https://i.postimg.cc/tgrM8CXR/image.png)\n",
        "\n",
        "where 𝛼 and 𝛽 are complex numbers that determine the amplitude and relative phase of the components. The global phase of a quantum state (multiplying the whole state by a complex constant $e^{iϕ}$ ) has no physical effect, but the relative phase between |0⟩ and |1⟩ is crucial, especially when qubits interfere or become entangled.\n",
        "\n",
        "The Bloch sphere is a powerful geometric tool for visualizing the state of a single qubit. In this representation, the north pole represents |0⟩, the south pole |1⟩, and any point on the surface represents a valid pure state. The relative phase between |0⟩ and |1⟩ determines the direction of the qubit’s projection in the X-Y plane.\n",
        "\n",
        "Phase gates like Z, S, and T modify this relative phase without changing the probability of measuring 0 or 1. On the Bloch sphere, this corresponds to a rotation around the Z-axis, causing the state vector to spin around the vertical axis without changing its length or polar angle. Although these rotations don't affect measurement in the Z-basis directly, they are fundamental for controlling quantum interference and building universal quantum gates.\n",
        "\n"
      ]
    },
    {
      "cell_type": "code",
      "execution_count": null,
      "metadata": {
        "id": "MoBRbUjPJZCi"
      },
      "outputs": [],
      "source": [
        "from qiskit.quantum_info import Statevector\n",
        "from qiskit.visualization import plot_bloch_vector, plot_bloch_multivector"
      ]
    },
    {
      "cell_type": "code",
      "execution_count": null,
      "metadata": {
        "id": "Ch9HYLGL3B2v"
      },
      "outputs": [],
      "source": [
        "qasm_simulator = AerSimulator()                      # For running noisy or sampled simulations\n",
        "statevector_simulator = AerSimulator(method='statevector')  # For exact quantum state simulation"
      ]
    },
    {
      "cell_type": "code",
      "execution_count": null,
      "metadata": {
        "id": "cItoJT923BE5"
      },
      "outputs": [],
      "source": [
        "def run_on_simulators(circuit):\n",
        "    # Copy the circuit so we can keep the original clean\n",
        "    circuit_sv = circuit.copy()\n",
        "    circuit_qasm = circuit.copy()\n",
        "\n",
        "    # Get the statevector (before measurement)\n",
        "    statevec = Statevector.from_instruction(circuit_sv)\n",
        "\n",
        "    # Add measurement to the copy used for qasm simulation\n",
        "    num_qubits = circuit_qasm.num_qubits\n",
        "    circuit_qasm.measure(range(num_qubits), range(num_qubits))\n",
        "\n",
        "    # Transpile and run the qasm simulation (sampling-based)\n",
        "    compiled_circuit = transpile(circuit_qasm, qasm_simulator)\n",
        "    result = qasm_simulator.run(compiled_circuit, shots=1024).result()\n",
        "    counts = result.get_counts()\n",
        "\n",
        "    return statevec, counts"
      ]
    },
    {
      "cell_type": "markdown",
      "metadata": {
        "id": "EKnEnvezIT63"
      },
      "source": [
        "**Example 3. Different Phases and Bloch Spheres**\n",
        "\n",
        "In this example, we will implement different gates and take a look how they influence phase. **Write a comment about it under each example.**"
      ]
    },
    {
      "cell_type": "markdown",
      "metadata": {
        "id": "dI11R9YSJvet"
      },
      "source": [
        "1. Initial state |00⟩: Displays Bloch vectors of both qubits in the ground state (pointing up on the Z-axis)."
      ]
    },
    {
      "cell_type": "code",
      "execution_count": null,
      "metadata": {
        "id": "Hj0sJqQd5Nhe"
      },
      "outputs": [],
      "source": [
        "# Create a 2-qubit, 2-classical-bit quantum circuit\n",
        "circuit = QuantumCircuit(2, 2)\n",
        "\n",
        "# Run the circuit on both statevector and qasm simulators\n",
        "statevec, counts = run_on_simulators(circuit)\n",
        "circuit.draw(output = 'mpl')"
      ]
    },
    {
      "cell_type": "code",
      "execution_count": null,
      "metadata": {
        "id": "i_1PaW8G50QO"
      },
      "outputs": [],
      "source": [
        "plot_bloch_multivector(statevec)"
      ]
    },
    {
      "cell_type": "markdown",
      "metadata": {
        "id": "kdUqpj58OJp3"
      },
      "source": [
        "**Write a comment here:**"
      ]
    },
    {
      "cell_type": "markdown",
      "metadata": {
        "id": "AcirKzr5I8wM"
      },
      "source": [
        "2. Apply Hadamard on qubit 0: Creates superposition. Qubit 0 moves to the equator (X-axis), qubit 1 stays at |0⟩."
      ]
    },
    {
      "cell_type": "code",
      "execution_count": null,
      "metadata": {
        "id": "UPkWs1LOIBPi"
      },
      "outputs": [],
      "source": [
        "circuit.h(0)\n",
        "statevec, counts = run_on_simulators(circuit)\n",
        "circuit.draw(output = 'mpl')"
      ]
    },
    {
      "cell_type": "code",
      "execution_count": null,
      "metadata": {
        "id": "2_Mgn53-KCLe"
      },
      "outputs": [],
      "source": [
        "plot_bloch_multivector(statevec)"
      ]
    },
    {
      "cell_type": "markdown",
      "metadata": {
        "id": "NyH96qpSOQfS"
      },
      "source": [
        "**Write a comment here:**"
      ]
    },
    {
      "cell_type": "markdown",
      "metadata": {
        "id": "KFA0BTBkLvV7"
      },
      "source": [
        "3. Bell state with H + CNOT: Entangles the qubits. Bloch vectors of individual qubits appear depolarized due to entanglement."
      ]
    },
    {
      "cell_type": "code",
      "execution_count": null,
      "metadata": {
        "id": "VKU2-aqlKKKD"
      },
      "outputs": [],
      "source": [
        "circuit = QuantumCircuit(2,2)\n",
        "circuit.h(0)\n",
        "circuit.cx(0,1)\n",
        "statevec, counts = run_on_simulators(circuit)"
      ]
    },
    {
      "cell_type": "code",
      "execution_count": null,
      "metadata": {
        "id": "wCrAN3TrKglx"
      },
      "outputs": [],
      "source": [
        "circuit.draw(output = 'mpl')"
      ]
    },
    {
      "cell_type": "code",
      "execution_count": null,
      "metadata": {
        "id": "XAP5G_s3Kc9f"
      },
      "outputs": [],
      "source": [
        "plot_bloch_multivector(statevec)"
      ]
    },
    {
      "cell_type": "code",
      "execution_count": null,
      "metadata": {
        "id": "AvsKoFaUK941"
      },
      "outputs": [],
      "source": [
        "plot_histogram([counts])"
      ]
    },
    {
      "cell_type": "markdown",
      "metadata": {
        "id": "56BMb3U2OSt1"
      },
      "source": [
        "**Write a comment here:**"
      ]
    },
    {
      "cell_type": "markdown",
      "metadata": {
        "id": "El9ERMV_K4i6"
      },
      "source": [
        "4. RX rotations: Rotates qubits around the X-axis by π/4 and π/2 radians respectively."
      ]
    },
    {
      "cell_type": "code",
      "execution_count": null,
      "metadata": {
        "id": "yFfEAB6FK4MD"
      },
      "outputs": [],
      "source": [
        "circuit = QuantumCircuit(2,2)\n",
        "circuit.rx(math.pi/4, 0)\n",
        "circuit.rx(math.pi / 2, 1)\n",
        "statevec, counts = run_on_simulators(circuit)\n",
        "circuit.draw(output = 'mpl')"
      ]
    },
    {
      "cell_type": "code",
      "execution_count": null,
      "metadata": {
        "id": "ykjPmBxsERFx"
      },
      "outputs": [],
      "source": [
        "plot_bloch_multivector(statevec)"
      ]
    },
    {
      "cell_type": "markdown",
      "metadata": {
        "id": "dhrdxrRuOULi"
      },
      "source": [
        "**Write a comment here:**"
      ]
    },
    {
      "cell_type": "markdown",
      "metadata": {
        "id": "2IqMGeK1Ltuf"
      },
      "source": [
        "5.  RY rotations: Rotates qubits around the Y-axis."
      ]
    },
    {
      "cell_type": "code",
      "execution_count": null,
      "metadata": {
        "id": "7DPHmEQzLzLb"
      },
      "outputs": [],
      "source": [
        "circuit = QuantumCircuit(2,2)\n",
        "circuit.ry(math.pi/4, 0)\n",
        "circuit.ry(math.pi / 2, 1)\n",
        "statevec, counts = run_on_simulators(circuit)\n",
        "circuit.draw(output = 'mpl')"
      ]
    },
    {
      "cell_type": "code",
      "execution_count": null,
      "metadata": {
        "id": "EbJtBwlfL82n"
      },
      "outputs": [],
      "source": [
        "plot_bloch_multivector(statevec)"
      ]
    },
    {
      "cell_type": "code",
      "execution_count": null,
      "metadata": {
        "id": "BImD_uqQMIT4"
      },
      "outputs": [],
      "source": [
        "plot_histogram([counts])"
      ]
    },
    {
      "cell_type": "markdown",
      "metadata": {
        "id": "6bPPWb-8OVaJ"
      },
      "source": [
        "**Write a comment here:**"
      ]
    },
    {
      "cell_type": "markdown",
      "metadata": {
        "id": "oBt1tJNTMC2v"
      },
      "source": [
        "6.  H on 1-qubit: Shows |+⟩ state (lies on the X-axis)."
      ]
    },
    {
      "cell_type": "code",
      "execution_count": null,
      "metadata": {
        "id": "ema6P3_GMF-5"
      },
      "outputs": [],
      "source": [
        "circuit = QuantumCircuit(1,1)\n",
        "circuit.h(0)\n",
        "statevec, counts = run_on_simulators(circuit)\n",
        "circuit.draw(output = 'mpl')"
      ]
    },
    {
      "cell_type": "code",
      "execution_count": null,
      "metadata": {
        "id": "O5HCFKh1MfyE"
      },
      "outputs": [],
      "source": [
        "plot_bloch_multivector(statevec)"
      ]
    },
    {
      "cell_type": "markdown",
      "metadata": {
        "id": "PiatDgA3OWlD"
      },
      "source": [
        "**Write a comment here:**"
      ]
    },
    {
      "cell_type": "markdown",
      "metadata": {
        "id": "IZvoA_t9MfLV"
      },
      "source": [
        "7. H + Z: Adds phase shift to |+⟩, moving it to |−⟩ state (on negative X-axis)."
      ]
    },
    {
      "cell_type": "code",
      "execution_count": null,
      "metadata": {
        "id": "KNK3xUc6NQm5"
      },
      "outputs": [],
      "source": [
        "circuit = QuantumCircuit(1,1)\n",
        "circuit.h(0)\n",
        "circuit.z(0)\n",
        "statevec, counts = run_on_simulators(circuit)\n",
        "circuit.draw(output = 'mpl')\n"
      ]
    },
    {
      "cell_type": "code",
      "execution_count": null,
      "metadata": {
        "id": "avTpcpwqNcKF"
      },
      "outputs": [],
      "source": [
        "plot_bloch_multivector(statevec)"
      ]
    },
    {
      "cell_type": "markdown",
      "metadata": {
        "id": "Q1WIl_gML72j"
      },
      "source": [
        "**Write a comment here:**"
      ]
    },
    {
      "cell_type": "markdown",
      "metadata": {
        "id": "SJEccgJ_AQOA"
      },
      "source": [
        "# Tasks"
      ]
    },
    {
      "cell_type": "markdown",
      "metadata": {
        "id": "P2Rn8iNS6cN4"
      },
      "source": [
        "## Task 1. Creating Hadamard + Controlled-Z (CZ) Gate\n",
        "\n",
        "This circuit is fundamental in creating cluster states and stabilizer circuits, both important in quantum error correction, measurement-based quantum computing, and quantum teleportation.\n",
        "\n",
        "In order to construct it, we have to:\n",
        "1.  Apply Hadamard to qubit $q_0$ to obtain superposition state\n",
        "2.  Apply controlled-Z (CZ) gate between $q_0$ and $q_1$\n",
        "\n",
        "This creates a maximally entangled state, but in a different basis than CNOT. It’s commonly used to generate graph states, the core of measurement-based quantum computation (MBQC).\n",
        "\n"
      ]
    },
    {
      "cell_type": "markdown",
      "metadata": {
        "id": "AOUzhsCKPEXf"
      },
      "source": [
        "## Task 2: Create a 3-Qubit Linear Cluster State\n",
        "\n",
        "Extend the 2-qubit Hadamard + CZ circuit into a 3-qubit linear cluster state, a basic structure in measurement-based quantum computing (MBQC).\n",
        "Steps:\n",
        "1. Initialize a 3-qubit circuit: q0, q1, and q2.\n",
        "2. Apply Hadamard gates to all three qubits to place them in superposition.\n",
        "3. Apply CZ gates between:\n",
        "*   $q_0$ and $q_1$\n",
        "*   $q_1$ and $q_2$\n",
        "\n",
        "Measure the qubits in different bases (X, Z) and observe correlations."
      ]
    },
    {
      "cell_type": "markdown",
      "metadata": {
        "id": "EsCumr1kPlHB"
      },
      "source": [
        "## Task 3: Implement a 3-Qubit GHZ State + Phase Kickback with CZ\n",
        "\n",
        "Build a 3-qubit GHZ (Greenberger–Horne–Zeilinger) state and use an extra CZ gate to simulate phase kickback, a critical concept in phase estimation, modular arithmetic, and quantum Fourier transform.\n",
        "\n",
        "Steps:\n",
        "1. Create a 3-qubit circuit.\n",
        "2. Apply Hadamard to q0.\n",
        "3. Apply CNOT from q0 to q1, and from q0 to q2. This creates the GHZ state.\n",
        "4. Apply a Z gate or CZ between q2 and an ancilla/control qubit q3 to simulate a phase-controlled operation.\n",
        "\n",
        "Measure all qubits. Analyze how entanglement and phase gates propagate through the circuit — what happens when you apply Z only to one qubit in a GHZ state?"
      ]
    },
    {
      "cell_type": "markdown",
      "metadata": {
        "id": "l_eiPCnvQqxm"
      },
      "source": [
        "## Task 4: Demonstrate Phase Kickback Using the Controlled-Z Gate and Bloch Sphere Visualization\n",
        "\n",
        "Understand and visualize the phenomenon of phase kickback, where a phase operation applied to a target qubit affects the control qubit’s phase due to entanglement — even though no gate was directly applied to it.\n",
        "\n",
        "Steps:\n",
        "1. Create a 2-qubit circuit.\n",
        "2. Initialize $q_0$ in a superposition using a Hadamard gate (this will be the control qubit).\n",
        "3. Prepare $q_1$ in state |1⟩ (apply X gate to flip from |0⟩ to |1⟩).\n",
        "4. Apply a Controlled-Z (CZ) gate between $q_0$ and $q_1$.\n",
        "5. Extract and plot the Bloch vector of $q_0$ (the control qubit) using plot_bloch_multivector().\n",
        "6. Repeat the same circuit without the CZ gate and compare the Bloch vector of $q_0$."
      ]
    }
  ],
  "metadata": {
    "colab": {
      "provenance": [],
      "toc_visible": true
    },
    "kernelspec": {
      "display_name": "Python 3",
      "name": "python3"
    },
    "language_info": {
      "name": "python"
    }
  },
  "nbformat": 4,
  "nbformat_minor": 0
}